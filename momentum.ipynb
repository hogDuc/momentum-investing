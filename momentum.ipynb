{
 "cells": [
  {
   "cell_type": "code",
   "execution_count": 2,
   "id": "e7973051",
   "metadata": {},
   "outputs": [],
   "source": [
    "import pandas as pd\n",
    "import numpy as np\n",
    "import os"
   ]
  },
  {
   "cell_type": "code",
   "execution_count": null,
   "id": "e975050c",
   "metadata": {},
   "outputs": [],
   "source": [
    "# Input parameters\n",
    "capital = 1000"
   ]
  },
  {
   "cell_type": "code",
   "execution_count": 64,
   "id": "ceda5665",
   "metadata": {},
   "outputs": [],
   "source": [
    "# change the dataframes column names and datatypes\n",
    "def parse_data(df, exchange_name=\"\"):\n",
    "    return(\n",
    "        df.rename(columns={\n",
    "            \"<Ticker>\":\"ticker\",\n",
    "            '<DTYYYYMMDD>':'date', \n",
    "            '<Open>':'open', \n",
    "            '<High>':'high', \n",
    "            '<Low>':'low', \n",
    "            '<Close>':'close',\n",
    "            '<Volume>':'volume'\n",
    "        }).assign(\n",
    "            date = lambda x: pd.to_datetime(x['date'], format=\"%Y%m%d\"),\n",
    "            exchange = exchange_name\n",
    "        )\n",
    "    )\n",
    "\n",
    "def add_daily_return(df):\n",
    "    return(\n",
    "        df.assign(\n",
    "            daily_return = lambda x: x['close'].pct_change()\n",
    "        )\n",
    "    )"
   ]
  },
  {
   "cell_type": "code",
   "execution_count": null,
   "id": "8e15ef05",
   "metadata": {},
   "outputs": [],
   "source": [
    "# Read data\n",
    "hnx = parse_data(pd.read_csv(os.path.join('data', \"CafeF.HNX.Upto29.05.2025.csv\")), exchange_name=\"HNX\")\n",
    "hsx = parse_data(pd.read_csv(os.path.join('data', \"CafeF.HSX.Upto29.05.2025.csv\")), exchange_name= \"HOSE\")\n",
    "upcom = parse_data(pd.read_csv(os.path.join('data', \"CafeF.UPCOM.Upto29.05.2025.csv\")), exchange_name=\"UPCOM\")\n",
    "index = parse_data(pd.read_csv(os.path.join('data',\"CafeF.INDEX.Upto28.05.2025.csv\")), exchange_name= \"Index\")\n"
   ]
  },
  {
   "cell_type": "code",
   "execution_count": 75,
   "id": "ee870665",
   "metadata": {},
   "outputs": [],
   "source": [
    "# Combine all exchanges, calculate daily return\n",
    "vnstocks = pd.concat([hnx, hsx, upcom], axis=0)[['ticker', 'date', 'close', \"exchange\"]] \\\n",
    "    .sort_values(['ticker', \"date\"], ascending=True, ignore_index=True)\\\n",
    "    .groupby('ticker').apply(add_daily_return)\\\n",
    "    .reset_index(drop=True)"
   ]
  },
  {
   "cell_type": "code",
   "execution_count": 79,
   "id": "735c2ec1",
   "metadata": {},
   "outputs": [
    {
     "data": {
      "text/plain": [
       "<pandas.core.resample.DatetimeIndexResampler object at 0x00000000C001EC00>"
      ]
     },
     "execution_count": 79,
     "metadata": {},
     "output_type": "execute_result"
    }
   ],
   "source": [
    "vnstocks.set_index(\"date\").resample(\"M\")"
   ]
  }
 ],
 "metadata": {
  "kernelspec": {
   "display_name": "Python 3",
   "language": "python",
   "name": "python3"
  },
  "language_info": {
   "codemirror_mode": {
    "name": "ipython",
    "version": 3
   },
   "file_extension": ".py",
   "mimetype": "text/x-python",
   "name": "python",
   "nbconvert_exporter": "python",
   "pygments_lexer": "ipython3",
   "version": "3.12.0"
  }
 },
 "nbformat": 4,
 "nbformat_minor": 5
}
