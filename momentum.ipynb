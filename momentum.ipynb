{
 "cells": [
  {
   "cell_type": "code",
   "execution_count": 70,
   "id": "e7973051",
   "metadata": {},
   "outputs": [],
   "source": [
    "import pandas as pd\n",
    "import numpy as np\n",
    "import os\n",
    "import matplotlib.pyplot as plt\n",
    "import datetime\n",
    "from scipy.optimize import minimize"
   ]
  },
  {
   "cell_type": "markdown",
   "id": "57d887c3",
   "metadata": {},
   "source": [
    "# Đề bài\n",
    "a. Hãy áp dụng chiến lược Động lượng với thị trường cổ phiếu Việt Nam để xây dựng danh mục cổ phiếu. Thực hiện kiểm thử và đánh giá hiệu quả đầu tư danh mục này, bắt đầu từ ngày 02/01/2025 tới 16/05/2025, so sánh với VN-Index là danh mục tiêu chuẩn.\n",
    "\n",
    "b. Đưa ra danh sách và tỷ trọng cổ phiếu khuyến nghị với ngày đầu tư là 27/05/2025.\n",
    "# Dữ liệu đầu vào"
   ]
  },
  {
   "cell_type": "code",
   "execution_count": 101,
   "id": "e975050c",
   "metadata": {},
   "outputs": [],
   "source": [
    "# Số cổ phiếu trong danh mục\n",
    "portfolio_size = 5\n",
    "\n",
    "# Lợi suất phi rủi ro\n",
    "risk_free_rate = 0.03\n",
    "\n",
    "# Thời gian kiểm thử\n",
    "l_threshold = \"2025-01-02\"\n",
    "u_threshold = \"2025-05-16\"\n",
    "\n",
    "# Thời gian khuyến nghị danh mục\n",
    "buy_date = \"2025-05-27\"\n",
    "\n",
    "# Chọn yêu cầu\n",
    "# Chọn \"a\" để thực hiện đề xuất và kiểm thử danh mục từ 02/01/2025 - 16/05/2025, hoặc tùy chỉnh l_threshold, u_threshold\n",
    "# Chọn \"b\" để thực hiện đề xuất cho ngày 27/05/2025, hoặc tùy chỉnh tại buy_date\n",
    "task = \"a\" \n",
    "\n",
    "# Chọn ngày đề xuất danh mục\n",
    "buy_date = pd.to_datetime(buy_date)\n",
    "\n",
    "# Giới hạn ngày kiểm thử\n",
    "l_threshold = pd.to_datetime(l_threshold) # Ngày kiểm thử xa nhất - lower threshold\n",
    "u_threshold = pd.to_datetime(u_threshold) # Ngày gần nhất - upper threshold\n",
    "\n",
    "if task == \"a\":\n",
    "    check_date = l_threshold - pd.DateOffset(months=1) + pd.offsets.MonthEnd(0)\n",
    "elif task == \"b\":\n",
    "    check_date = buy_date - pd.DateOffset(months=1) + pd.offsets.MonthEnd(0)"
   ]
  },
  {
   "cell_type": "code",
   "execution_count": 102,
   "id": "ceda5665",
   "metadata": {},
   "outputs": [],
   "source": [
    "# DEFINE FUNCTIONS\n",
    "# change the dataframes column names and datatypes\n",
    "def parse_data(df, exchange_name=\"\"):\n",
    "    return(\n",
    "        df.rename(columns={\n",
    "            \"<Ticker>\":\"ticker\",\n",
    "            '<DTYYYYMMDD>':'date', \n",
    "            '<Open>':'open', \n",
    "            '<High>':'high', \n",
    "            '<Low>':'low', \n",
    "            '<Close>':'close',\n",
    "            '<Volume>':'volume'\n",
    "        }).assign(\n",
    "            date = lambda x: pd.to_datetime(x['date'], format=\"%Y%m%d\"),\n",
    "            exchange = exchange_name\n",
    "        )\n",
    "    )\n",
    "\n",
    "def add_daily_return(df):\n",
    "    return(\n",
    "        df.assign(\n",
    "            daily_return = lambda x: x['close'].pct_change() + 1\n",
    "        )\n",
    "    )\n",
    "\n",
    "def get_rolling_return(df):\n",
    "    # calculate cummulative return of 3 months, 6 months, and 12 months window\n",
    "    return_df = pd.DataFrame(df.set_index('date').resample('ME')['daily_return'].prod()).rename(columns={\n",
    "        'daily_return':'return_1m'\n",
    "    }).assign(\n",
    "        return_3m = lambda x: x[\"return_1m\"].rolling(3).apply(np.prod),\n",
    "        return_6m = lambda x: x[\"return_1m\"].rolling(6).apply(np.prod), \n",
    "        return_12m = lambda x: x[\"return_1m\"].rolling(12).apply(np.prod) \n",
    "    )\n",
    "    return return_df\n",
    "\n",
    "# Return negative Sharpe Ratio\n",
    "# Since I'm using scipy minimize function, minimize the negative = maximize\n",
    "def neg_sharpe_ratio(weights, expected_returns, cov_matrix, risk_free_rate):\n",
    "    portfolio_return = np.sum(expected_returns * weights)\n",
    "    portfolio_std_dev = np.sqrt(np.dot(weights.T, np.dot(cov_matrix, weights)))\n",
    "    sharpe_ratio = (portfolio_return - risk_free_rate) / portfolio_std_dev\n",
    "    return -sharpe_ratio\n",
    "\n",
    "# Make sure portfolio weight sums up to 1\n",
    "def check_sum(weights):\n",
    "    return np.sum(weights) - 1\n",
    "\n",
    "# Function to calculate the annualized Sharpe Ratio\n",
    "def calculate_sharpe_ratio(weights, expected_returns, cov_matrix, risk_free_rate):\n",
    "    portfolio_return = np.sum(expected_returns * weights) * 252  # Annualize return, there are 252 trading days in a year\n",
    "    portfolio_std_dev = np.sqrt(np.dot(weights.T, np.dot(cov_matrix, weights))) * np.sqrt(252)  # Annualize std dev\n",
    "    sharpe_ratio = (portfolio_return - risk_free_rate) / portfolio_std_dev\n",
    "    return sharpe_ratio\n",
    "\n",
    "def optimize_portfolio(df, risk_free_rate=0.01):\n",
    "    # Calculate the expected return for each stock\n",
    "    expected_returns = df.groupby('ticker')['daily_return'].mean().values - 1\n",
    "    # Covariance matrix\n",
    "    cov_matrix = df.pivot_table(values='daily_return', index='date', columns='ticker').pct_change().cov()\n",
    "\n",
    "    num_assets = len(expected_returns) # number of stocks\n",
    "    # Assume all stock are weighted equally at first\n",
    "    initial_weights = np.array([1/num_assets] * num_assets)\n",
    "    bounds = [(0.1, 1)] * num_assets # 0 < weight < 1\n",
    "    # Make sure the weights add up to 1\n",
    "    constraints = ({'type': 'eq', 'fun': check_sum})\n",
    "\n",
    "    # Optimize weights\n",
    "    opt_solution = minimize(\n",
    "        neg_sharpe_ratio, \n",
    "        initial_weights,\n",
    "        args=(expected_returns, cov_matrix, risk_free_rate),\n",
    "        method='SLSQP',\n",
    "        bounds=bounds,\n",
    "        constraints=constraints\n",
    "    )\n",
    "    optimal_weights = opt_solution.x\n",
    "    sharpe_ratio = calculate_sharpe_ratio(optimal_weights, expected_returns, cov_matrix, risk_free_rate)\n",
    "\n",
    "    optimal_portfolio = dict(zip(\n",
    "            df['ticker'].unique(), np.round(optimal_weights, 2)\n",
    "        ))\n",
    "\n",
    "    return optimal_portfolio, sharpe_ratio"
   ]
  },
  {
   "cell_type": "code",
   "execution_count": 103,
   "id": "8e15ef05",
   "metadata": {},
   "outputs": [],
   "source": [
    "# Read data\n",
    "if 'stock_returns.csv' not in os.listdir(\"data\"):\n",
    "    hnx = parse_data(pd.read_csv(os.path.join('data', \"CafeF.HNX.Upto29.05.2025.csv\")), exchange_name=\"HNX\")\n",
    "    hsx = parse_data(pd.read_csv(os.path.join('data', \"CafeF.HSX.Upto29.05.2025.csv\")), exchange_name= \"HOSE\")\n",
    "    upcom = parse_data(pd.read_csv(os.path.join('data', \"CafeF.UPCOM.Upto29.05.2025.csv\")), exchange_name=\"UPCOM\")\n",
    "    # Combine all exchanges, calculate daily return\n",
    "    vnstocks = pd.concat([hnx, hsx, upcom], axis=0)[['ticker', 'date', 'close', \"exchange\"]] \\\n",
    "        .sort_values(['ticker', \"date\"], ascending=True, ignore_index=True)\\\n",
    "        .groupby('ticker').apply(add_daily_return)\\\n",
    "        .reset_index(drop=True)\n",
    "    return_vnstocks = vnstocks.groupby('ticker').apply(get_rolling_return).reset_index()\n",
    "    vnstocks.to_csv(os.path.join('data', \"historical_data.csv\"), index=False)\n",
    "    return_vnstocks.to_csv(os.path.join('data', \"stock_returns.csv\"), index=False)\n",
    "else:\n",
    "    vnstocks = pd.read_csv(os.path.join('data', \"historical_data.csv\")).assign(\n",
    "        date = lambda x: pd.to_datetime(x['date'])\n",
    "    )\n",
    "    return_vnstocks = pd.read_csv(os.path.join('data', \"stock_returns.csv\")).assign(\n",
    "        date = lambda x: pd.to_datetime(x['date'])\n",
    "    )\n",
    "\n",
    "vnstocks = vnstocks[vnstocks[\"ticker\"].str.len()==3]\n",
    "return_vnstocks = return_vnstocks[return_vnstocks[\"ticker\"].str.len()==3]\n",
    "\n",
    "# VNIndex historical data\n",
    "index = parse_data(pd.read_csv(os.path.join('data',\"CafeF.INDEX.Upto28.05.2025.csv\")), exchange_name= \"Index\")\\\n",
    "    .sort_values(\"date\", ascending=True, ignore_index=True)\n",
    "\n",
    "# rolling window 1m ,3m, 6m, and 12m accumulative return of stocks, with mommentum score equal mean of the returns\n",
    "scored_return = return_vnstocks.assign(\n",
    "    momentum_score = lambda x: x[[\"return_1m\", \"return_3m\", \"return_6m\", \"return_12m\"]].mean(axis=1)\n",
    ")\n",
    "\n",
    "# Rolling accumulative return of VNIndex\n",
    "index_mmt = pd.DataFrame(\n",
    "    index.loc[index['ticker']==\"VNINDEX\"].sort_values('date', ascending=True).assign(\n",
    "        daily_return = lambda x: x['close'].pct_change() + 1\n",
    "    ).set_index('date').resample('ME')['daily_return'].prod()\n",
    ").rename(columns={\n",
    "        'daily_return':'return_1m'\n",
    "    }).assign(\n",
    "        return_3m = lambda x: x[\"return_1m\"].rolling(3).apply(np.prod),\n",
    "        return_6m = lambda x: x[\"return_1m\"].rolling(6).apply(np.prod), \n",
    "        return_12m = lambda x: x[\"return_1m\"].rolling(12).apply(np.prod),\n",
    "        momentum_score = lambda x: x[[\"return_1m\", \"return_3m\", \"return_6m\", \"return_12m\"]].mean(axis=1)\n",
    "    ).reset_index()\n",
    "\n",
    "# Momentum score of VNIndex\n",
    "index_mmt_score = index_mmt.loc[index_mmt[\"date\"] == check_date][\"momentum_score\"].values[0]"
   ]
  },
  {
   "cell_type": "code",
   "execution_count": 104,
   "id": "798e1e65",
   "metadata": {},
   "outputs": [],
   "source": [
    "# Stock recommendations at the end of the previous month\n",
    "# The average momentum must be higher than VNIndex\n",
    "# Only pick the top scored stocks, with higher momentum score than VNIndex's score\n",
    "\n",
    "recommend_portfolio = scored_return.loc[\n",
    "    (scored_return[\"date\"] == check_date) & \n",
    "    (scored_return['momentum_score'] > index_mmt_score)\n",
    "].sort_values(\"momentum_score\", ascending=False).head(portfolio_size)\n",
    "\n",
    "# List of top recommended stocks\n",
    "rcm_stocks = recommend_portfolio['ticker'].unique()"
   ]
  },
  {
   "cell_type": "markdown",
   "id": "4116884c",
   "metadata": {},
   "source": [
    "# Kết quả"
   ]
  },
  {
   "cell_type": "code",
   "execution_count": 105,
   "id": "3fedb86b",
   "metadata": {},
   "outputs": [],
   "source": [
    "# Calculate VNIndex gross return within validation range\n",
    "index_return = pd.DataFrame(\n",
    "    index.loc[\n",
    "        (index[\"date\"] >= l_threshold) & \n",
    "        (index['ticker'] == \"VNINDEX\")\n",
    "    ][[\"date\", \"close\"]]\n",
    ").assign(\n",
    "    return_daily = lambda x :(x['close'].pct_change()).fillna(0).add(1),\n",
    "    accumulative_return = lambda x: x['return_daily'].cumprod()\n",
    ")\n"
   ]
  },
  {
   "cell_type": "code",
   "execution_count": 106,
   "id": "0c0e28fe",
   "metadata": {},
   "outputs": [],
   "source": [
    "# Assume buy with close price\n",
    "\n",
    "# test set for recommended portfolio\n",
    "rcm_test_df = pd.DataFrame(\n",
    "        vnstocks.loc[\n",
    "        (vnstocks[\"date\"] >= l_threshold) &\n",
    "        (vnstocks[\"ticker\"].isin(rcm_stocks))\n",
    "    ][[\"date\", 'ticker', 'close']]\\\n",
    "    .pivot(index='date', values=\"close\", columns='ticker').ffill().bfill()\n",
    ")\n",
    "\n",
    "# Accumulative return of an equally weighted portfolio of recommended stocks\n",
    "eq_rcm_return = rcm_test_df.pct_change(fill_method=None).fillna(0).mean(axis=1).add(1).cumprod()\\\n",
    "    .reset_index().rename(columns={0:'accum_return'})"
   ]
  },
  {
   "cell_type": "code",
   "execution_count": 107,
   "id": "05652b3f",
   "metadata": {},
   "outputs": [
    {
     "name": "stderr",
     "output_type": "stream",
     "text": [
      "C:\\Users\\ADMIN\\AppData\\Local\\Temp\\ipykernel_9140\\1018927419.py:60: FutureWarning: The default fill_method='pad' in DataFrame.pct_change is deprecated and will be removed in a future version. Either fill in any non-leading NA values prior to calling pct_change or specify 'fill_method=None' to not fill NA values.\n",
      "  cov_matrix = df.pivot_table(values='daily_return', index='date', columns='ticker').pct_change().cov()\n"
     ]
    }
   ],
   "source": [
    "# Portfolio historical data to optimize with Sharpe ratio \n",
    "sharpe_df = vnstocks.loc[\n",
    "    (vnstocks['ticker'].isin(rcm_stocks)) &\n",
    "    (vnstocks['date'] < check_date)\n",
    "]\n",
    "# Find optimal stock weights\n",
    "optimal_portfolio, sharpe_ratio = optimize_portfolio(df=sharpe_df, risk_free_rate=risk_free_rate)\n",
    "opt_rcm_return = pd.DataFrame(\n",
    "    (rcm_test_df.pct_change().fillna(0) * pd.Series(optimal_portfolio))\\\n",
    "    .sum(axis=1).add(1).cumprod()\\\n",
    ").rename(columns={0:\"accum_return\"}).reset_index()"
   ]
  },
  {
   "cell_type": "markdown",
   "id": "28bead0d",
   "metadata": {},
   "source": [
    "### Danh mục và tỷ trọng đề xuất:"
   ]
  },
  {
   "cell_type": "code",
   "execution_count": 108,
   "id": "61c68f2c",
   "metadata": {},
   "outputs": [
    {
     "data": {
      "application/vnd.microsoft.datawrangler.viewer.v0+json": {
       "columns": [
        {
         "name": "index",
         "rawType": "int64",
         "type": "integer"
        },
        {
         "name": "Stock",
         "rawType": "object",
         "type": "string"
        },
        {
         "name": "Weights",
         "rawType": "float64",
         "type": "float"
        }
       ],
       "ref": "c1eb9d8c-99cb-44e2-9f4f-d5f1555c5f90",
       "rows": [
        [
         "0",
         "CTP",
         "0.1"
        ],
        [
         "1",
         "HGM",
         "0.1"
        ],
        [
         "2",
         "KSV",
         "0.1"
        ],
        [
         "3",
         "MA1",
         "0.6"
        ],
        [
         "4",
         "TFC",
         "0.1"
        ]
       ],
       "shape": {
        "columns": 2,
        "rows": 5
       }
      },
      "text/html": [
       "<div>\n",
       "<style scoped>\n",
       "    .dataframe tbody tr th:only-of-type {\n",
       "        vertical-align: middle;\n",
       "    }\n",
       "\n",
       "    .dataframe tbody tr th {\n",
       "        vertical-align: top;\n",
       "    }\n",
       "\n",
       "    .dataframe thead th {\n",
       "        text-align: right;\n",
       "    }\n",
       "</style>\n",
       "<table border=\"1\" class=\"dataframe\">\n",
       "  <thead>\n",
       "    <tr style=\"text-align: right;\">\n",
       "      <th></th>\n",
       "      <th>Stock</th>\n",
       "      <th>Weights</th>\n",
       "    </tr>\n",
       "  </thead>\n",
       "  <tbody>\n",
       "    <tr>\n",
       "      <th>0</th>\n",
       "      <td>CTP</td>\n",
       "      <td>0.1</td>\n",
       "    </tr>\n",
       "    <tr>\n",
       "      <th>1</th>\n",
       "      <td>HGM</td>\n",
       "      <td>0.1</td>\n",
       "    </tr>\n",
       "    <tr>\n",
       "      <th>2</th>\n",
       "      <td>KSV</td>\n",
       "      <td>0.1</td>\n",
       "    </tr>\n",
       "    <tr>\n",
       "      <th>3</th>\n",
       "      <td>MA1</td>\n",
       "      <td>0.6</td>\n",
       "    </tr>\n",
       "    <tr>\n",
       "      <th>4</th>\n",
       "      <td>TFC</td>\n",
       "      <td>0.1</td>\n",
       "    </tr>\n",
       "  </tbody>\n",
       "</table>\n",
       "</div>"
      ],
      "text/plain": [
       "  Stock  Weights\n",
       "0   CTP      0.1\n",
       "1   HGM      0.1\n",
       "2   KSV      0.1\n",
       "3   MA1      0.6\n",
       "4   TFC      0.1"
      ]
     },
     "execution_count": 108,
     "metadata": {},
     "output_type": "execute_result"
    }
   ],
   "source": [
    "# Optimal portfolio\n",
    "pd.DataFrame(optimal_portfolio, index=['weights']).T.reset_index().rename(\n",
    "    columns={\n",
    "        'index':\"Stock\",\n",
    "        \"weights\": \"Weights\"\n",
    "    }\n",
    ")"
   ]
  },
  {
   "cell_type": "markdown",
   "id": "fdab9315",
   "metadata": {},
   "source": [
    "### Sharpe ratio, Alpha và Beta của danh mục đề xuất:"
   ]
  },
  {
   "cell_type": "code",
   "execution_count": 109,
   "id": "fce8cc27",
   "metadata": {},
   "outputs": [
    {
     "name": "stdout",
     "output_type": "stream",
     "text": [
      "Sharpe ratio: 1.73\n",
      "Beta: 0.88\n",
      "Alpha: 0.29\n"
     ]
    }
   ],
   "source": [
    "# Calculate portfolio beta, alpha\n",
    "# Portfolio daily return\n",
    "opt_rcm_return['daily_return'] = opt_rcm_return['accum_return'].pct_change().fillna(0)\n",
    "# VNIndex daily return\n",
    "index_return['daily_return'] = index_return['accumulative_return'].pct_change().fillna(0)\n",
    "\n",
    "merged_returns = pd.merge(opt_rcm_return[['date', 'daily_return']], index_return[['date', 'daily_return']], on='date', suffixes=('_portfolio', '_index'))\n",
    "\n",
    "covariance = merged_returns['daily_return_portfolio'].cov(merged_returns['daily_return_index'])\n",
    "variance = merged_returns['daily_return_index'].var()\n",
    "\n",
    "beta = covariance / variance\n",
    "\n",
    "# Calculate the portfolio's annualized return\n",
    "portfolio_return = opt_rcm_return['daily_return'].mean() * 252\n",
    "\n",
    "market_return = index_return['daily_return'].mean() * 252\n",
    "expected_return = risk_free_rate + beta * (market_return - risk_free_rate)\n",
    "\n",
    "alpha = portfolio_return - expected_return\n",
    "\n",
    "print(\"Sharpe ratio:\", round(sharpe_ratio, 2))\n",
    "print(\"Beta:\", round(beta, 2))\n",
    "print(\"Alpha:\", round(alpha, 2))"
   ]
  },
  {
   "cell_type": "markdown",
   "id": "7272b582",
   "metadata": {},
   "source": [
    "### Kiểm thử danh mục:"
   ]
  },
  {
   "cell_type": "code",
   "execution_count": 110,
   "id": "adc3df60",
   "metadata": {},
   "outputs": [
    {
     "data": {
      "image/png": "[encoded data removed]",
      "text/plain": [
       "<Figure size 1200x600 with 1 Axes>"
      ]
     },
     "metadata": {},
     "output_type": "display_data"
    }
   ],
   "source": [
    "plt.figure(figsize=(12, 6))\n",
    "plt.plot(index_return['date'], index_return['accumulative_return'], label='VNIndex Cumulative Return')\n",
    "plt.plot(eq_rcm_return['date'], eq_rcm_return['accum_return'], label='Equal weighted portfolio')\n",
    "plt.plot(opt_rcm_return['date'], opt_rcm_return['accum_return'], label='Optimal portfolio')\n",
    "plt.legend()\n",
    "plt.axhline(y=1, color='red', linestyle='--')\n",
    "plt.show()"
   ]
  }
 ],
 "metadata": {
  "kernelspec": {
   "display_name": "base",
   "language": "python",
   "name": "python3"
  },
  "language_info": {
   "codemirror_mode": {
    "name": "ipython",
    "version": 3
   },
   "file_extension": ".py",
   "mimetype": "text/x-python",
   "name": "python",
   "nbconvert_exporter": "python",
   "pygments_lexer": "ipython3",
   "version": "3.12.7"
  }
 },
 "nbformat": 4,
 "nbformat_minor": 5
}
